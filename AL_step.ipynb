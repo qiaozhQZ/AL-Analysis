{
 "cells": [
  {
   "cell_type": "markdown",
   "metadata": {},
   "source": [
    "## Data Preparation"
   ]
  },
  {
   "cell_type": "markdown",
   "metadata": {},
   "source": [
    "### Use Selection as Step Name"
   ]
  },
  {
   "cell_type": "code",
   "execution_count": 2,
   "metadata": {},
   "outputs": [],
   "source": [
    "import pandas as pd\n",
    "import numpy as np\n",
    "import matplotlib as plt\n",
    "import scipy.sparse as sparse"
   ]
  },
  {
   "cell_type": "code",
   "execution_count": 3,
   "metadata": {},
   "outputs": [],
   "source": [
    "import sys\n",
    "sys.path.append(\"E:/GitHub/pyAFM\")"
   ]
  },
  {
   "cell_type": "code",
   "execution_count": 4,
   "metadata": {},
   "outputs": [],
   "source": [
    "from pyafm.helper import afm_predict"
   ]
  },
  {
   "cell_type": "markdown",
   "metadata": {},
   "source": [
    "### Load Data"
   ]
  },
  {
   "cell_type": "code",
   "execution_count": 34,
   "metadata": {},
   "outputs": [],
   "source": [
    "bkt = pd.read_csv('E:/GitHub/pyAFM/pyafm/bkt_ptypeSelection_step-rollup.txt', sep = '\\t') # change path to Data folder later"
   ]
  },
  {
   "cell_type": "code",
   "execution_count": 52,
   "metadata": {},
   "outputs": [],
   "source": [
    "random = pd.read_csv('E:/GitHub/pyAFM/pyafm/random_ptypeSelection_step-rollup.txt', sep = '\\t') # change path to Data folder later"
   ]
  },
  {
   "cell_type": "code",
   "execution_count": 53,
   "metadata": {},
   "outputs": [],
   "source": [
    "streak = pd.read_csv('E:/GitHub/pyAFM/pyafm/streak_ptypeSelection_step-rollup.txt', sep = '\\t') # change path to Data folder later"
   ]
  },
  {
   "cell_type": "markdown",
   "metadata": {},
   "source": [
    "### Add \"Prediction\" column to the dataframe"
   ]
  },
  {
   "cell_type": "code",
   "execution_count": 31,
   "metadata": {},
   "outputs": [
    {
     "name": "stdout",
     "output_type": "stream",
     "text": [
      "\n",
      "Found these KC models:\n",
      "  (1) Selected\n",
      "  (2) Single-KC\n",
      "  (3) ptype_selection\n",
      "\n"
     ]
    },
    {
     "name": "stdin",
     "output_type": "stream",
     "text": [
      "Enter the number of which one you want to use:  3\n"
     ]
    }
   ],
   "source": [
    "bkt_predict = afm_predict('E:/GitHub/pyAFM/pyafm/bkt_ptypeSelection_step-rollup.txt') "
   ]
  },
  {
   "cell_type": "code",
   "execution_count": 36,
   "metadata": {},
   "outputs": [],
   "source": [
    "bkt['Prediction'] = bkt_predict"
   ]
  },
  {
   "cell_type": "code",
   "execution_count": 54,
   "metadata": {},
   "outputs": [
    {
     "name": "stdout",
     "output_type": "stream",
     "text": [
      "\n",
      "Found these KC models:\n",
      "  (1) Selected\n",
      "  (2) Single-KC\n",
      "  (3) ptype_selection\n",
      "\n"
     ]
    },
    {
     "name": "stdin",
     "output_type": "stream",
     "text": [
      "Enter the number of which one you want to use:  3\n"
     ]
    }
   ],
   "source": [
    "random_predict = afm_predict('E:/GitHub/pyAFM/pyafm/random_ptypeSelection_step-rollup.txt') "
   ]
  },
  {
   "cell_type": "code",
   "execution_count": 55,
   "metadata": {},
   "outputs": [],
   "source": [
    "random['Prediction'] = random_predict"
   ]
  },
  {
   "cell_type": "code",
   "execution_count": 56,
   "metadata": {},
   "outputs": [
    {
     "name": "stdout",
     "output_type": "stream",
     "text": [
      "\n",
      "Found these KC models:\n",
      "  (1) Selected\n",
      "  (2) Single-KC\n",
      "  (3) ptype_selection\n",
      "\n"
     ]
    },
    {
     "name": "stdin",
     "output_type": "stream",
     "text": [
      "Enter the number of which one you want to use:  3\n"
     ]
    }
   ],
   "source": [
    "streak_predict = afm_predict('E:/GitHub/pyAFM/pyafm/streak_ptypeSelection_step-rollup.txt') "
   ]
  },
  {
   "cell_type": "code",
   "execution_count": 57,
   "metadata": {},
   "outputs": [],
   "source": [
    "streak['Prediction'] = streak_predict"
   ]
  },
  {
   "cell_type": "code",
   "execution_count": 42,
   "metadata": {},
   "outputs": [],
   "source": [
    "# save prediction so we do not need to do prediction each time\n",
    "bkt.to_csv('E:/Project/AL/Data/StepNameSet/bkt_predict.txt', sep = '\\t')"
   ]
  },
  {
   "cell_type": "code",
   "execution_count": 58,
   "metadata": {},
   "outputs": [],
   "source": [
    "random.to_csv('E:/Project/AL/Data/StepNameSet/random_predict.txt', sep = '\\t')"
   ]
  },
  {
   "cell_type": "code",
   "execution_count": 59,
   "metadata": {},
   "outputs": [],
   "source": [
    "streak.to_csv('E:/Project/AL/Data/StepNameSet/streak_predict.txt', sep = '\\t')"
   ]
  }
 ],
 "metadata": {
  "kernelspec": {
   "display_name": "Python 3",
   "language": "python",
   "name": "python3"
  },
  "language_info": {
   "codemirror_mode": {
    "name": "ipython",
    "version": 3
   },
   "file_extension": ".py",
   "mimetype": "text/x-python",
   "name": "python",
   "nbconvert_exporter": "python",
   "pygments_lexer": "ipython3",
   "version": "3.8.1"
  }
 },
 "nbformat": 4,
 "nbformat_minor": 4
}
