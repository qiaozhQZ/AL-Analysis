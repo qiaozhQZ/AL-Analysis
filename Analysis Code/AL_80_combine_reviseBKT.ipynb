{
 "cells": [
  {
   "cell_type": "code",
   "execution_count": 1,
   "metadata": {},
   "outputs": [],
   "source": [
    "import pandas as pd\n",
    "import numpy as np\n",
    "import matplotlib as plt\n",
    "import scipy.sparse as sparse"
   ]
  },
  {
   "cell_type": "code",
   "execution_count": 2,
   "metadata": {},
   "outputs": [],
   "source": [
    "import sys\n",
    "sys.path.append(\"E:/GitHub/pyAFM\")"
   ]
  },
  {
   "cell_type": "code",
   "execution_count": 3,
   "metadata": {},
   "outputs": [],
   "source": [
    "from pyafm.helper import afm_predict"
   ]
  },
  {
   "cell_type": "markdown",
   "metadata": {},
   "source": [
    "#### Load Data"
   ]
  },
  {
   "cell_type": "code",
   "execution_count": 4,
   "metadata": {},
   "outputs": [],
   "source": [
    "combine = pd.read_csv('E:/Project/AL/Data/WhereWhenHowNoFoa_80_reviseBKT/Combine_rollup/wherewhenhownofoa_80_ptype_step_combine-rollup.txt', sep = '\\t')"
   ]
  },
  {
   "cell_type": "markdown",
   "metadata": {},
   "source": [
    "#### Prediction"
   ]
  },
  {
   "cell_type": "code",
   "execution_count": 5,
   "metadata": {},
   "outputs": [
    {
     "name": "stdout",
     "output_type": "stream",
     "text": [
      "\n",
      "Found these KC models:\n",
      "  (1) Selected\n",
      "  (2) Single-KC\n",
      "  (3) ptype_selection\n",
      "\n"
     ]
    },
    {
     "name": "stdin",
     "output_type": "stream",
     "text": [
      "Enter the number of which one you want to use:  3\n"
     ]
    }
   ],
   "source": [
    "combine_predict = afm_predict('E:/Project/AL/Data/WhereWhenHowNoFoa_80_reviseBKT/Combine_rollup/wherewhenhownofoa_80_ptype_step_combine-rollup.txt') "
   ]
  },
  {
   "cell_type": "code",
   "execution_count": 6,
   "metadata": {},
   "outputs": [],
   "source": [
    "combine['Prediction'] = combine_predict"
   ]
  },
  {
   "cell_type": "markdown",
   "metadata": {},
   "source": [
    "#### Seperate into subsets"
   ]
  },
  {
   "cell_type": "code",
   "execution_count": 17,
   "metadata": {},
   "outputs": [],
   "source": [
    "bkt_default = combine[combine['Anon Student Id'].str.contains('Default BKT Controller')]"
   ]
  },
  {
   "cell_type": "code",
   "execution_count": 8,
   "metadata": {},
   "outputs": [],
   "source": [
    "bkt_human = combine[combine['Anon Student Id'].str.contains('BKT Controller_human')]"
   ]
  },
  {
   "cell_type": "code",
   "execution_count": 9,
   "metadata": {},
   "outputs": [],
   "source": [
    "bkt_random = combine[combine['Anon Student Id'].str.contains('BKT Controller_random')]"
   ]
  },
  {
   "cell_type": "code",
   "execution_count": 10,
   "metadata": {},
   "outputs": [],
   "source": [
    "random = combine[combine['Anon Student Id'].str.contains('Random Controller')]"
   ]
  },
  {
   "cell_type": "code",
   "execution_count": 11,
   "metadata": {},
   "outputs": [],
   "source": [
    "streak = combine[combine['Anon Student Id'].str.contains('Streak Agent')]"
   ]
  },
  {
   "cell_type": "markdown",
   "metadata": {},
   "source": [
    "#### Save predicted subsets"
   ]
  },
  {
   "cell_type": "code",
   "execution_count": 18,
   "metadata": {},
   "outputs": [],
   "source": [
    "bkt_default.to_csv('E:/Project/AL/Data/WhereWhenHowNoFoa_80_reviseBKT/Predict/bkt_default_predict.txt', sep = '\\t')"
   ]
  },
  {
   "cell_type": "code",
   "execution_count": 13,
   "metadata": {},
   "outputs": [],
   "source": [
    "bkt_human.to_csv('E:/Project/AL/Data/WhereWhenHowNoFoa_80_reviseBKT/Predict/bkt_human_predict.txt', sep = '\\t')"
   ]
  },
  {
   "cell_type": "code",
   "execution_count": 14,
   "metadata": {},
   "outputs": [],
   "source": [
    "bkt_random.to_csv('E:/Project/AL/Data/WhereWhenHowNoFoa_80_reviseBKT/Predict/bkt_random_predict.txt', sep = '\\t')"
   ]
  },
  {
   "cell_type": "code",
   "execution_count": 15,
   "metadata": {},
   "outputs": [],
   "source": [
    "random.to_csv('E:/Project/AL/Data/WhereWhenHowNoFoa_80_reviseBKT/Predict/random_predict.txt', sep = '\\t')"
   ]
  },
  {
   "cell_type": "code",
   "execution_count": 16,
   "metadata": {},
   "outputs": [],
   "source": [
    "streak.to_csv('E:/Project/AL/Data/WhereWhenHowNoFoa_80_reviseBKT/Predict/streak_predict.txt', sep = '\\t')"
   ]
  }
 ],
 "metadata": {
  "kernelspec": {
   "display_name": "Python 3",
   "language": "python",
   "name": "python3"
  },
  "language_info": {
   "codemirror_mode": {
    "name": "ipython",
    "version": 3
   },
   "file_extension": ".py",
   "mimetype": "text/x-python",
   "name": "python",
   "nbconvert_exporter": "python",
   "pygments_lexer": "ipython3",
   "version": "3.8.1"
  }
 },
 "nbformat": 4,
 "nbformat_minor": 4
}
