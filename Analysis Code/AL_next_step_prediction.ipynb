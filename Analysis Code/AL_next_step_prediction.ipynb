{
 "cells": [
  {
   "cell_type": "code",
   "execution_count": 60,
   "metadata": {},
   "outputs": [],
   "source": [
    "import pandas as pd\n",
    "import numpy as np"
   ]
  },
  {
   "cell_type": "markdown",
   "metadata": {},
   "source": [
    "#### Load Data"
   ]
  },
  {
   "cell_type": "code",
   "execution_count": 62,
   "metadata": {},
   "outputs": [],
   "source": [
    "combine_prediction = pd.read_csv(\"E:/Project/AL/Data/WhereWhenHowNoFoa_firstAttempt/Predict/combine_next_step_predictions.txt\", sep = \",\")"
   ]
  },
  {
   "cell_type": "code",
   "execution_count": 63,
   "metadata": {},
   "outputs": [
    {
     "data": {
      "text/plain": [
       "<bound method NDFrame.head of                         student                   kc  opportunity  \\\n",
       "0     Default BKT Controller(1)  AD JCommTable8.R0C0            8   \n",
       "1     Default BKT Controller(1)  AD JCommTable4.R1C0            8   \n",
       "2     Default BKT Controller(1)  AD JCommTable4.R0C0            8   \n",
       "3     Default BKT Controller(1)  AD JCommTable5.R1C0            8   \n",
       "4     Default BKT Controller(1)  AD JCommTable5.R0C0            8   \n",
       "...                         ...                  ...          ...   \n",
       "2796           Streak Agent(30)              M  done           11   \n",
       "2797           Streak Agent(30)  AS JCommTable8.R0C0            4   \n",
       "2798           Streak Agent(30)  AS JCommTable6.R0C0           23   \n",
       "2799           Streak Agent(30)  AS JCommTable6.R1C0           23   \n",
       "2800           Streak Agent(30)              AS done           23   \n",
       "\n",
       "        prediction  \n",
       "0     8.248971e-01  \n",
       "1     9.775694e-01  \n",
       "2     9.007349e-01  \n",
       "3     9.917642e-01  \n",
       "4     7.835263e-01  \n",
       "...            ...  \n",
       "2796  1.000000e+00  \n",
       "2797  8.098258e-12  \n",
       "2798  9.061605e-01  \n",
       "2799  8.003611e-01  \n",
       "2800  1.000000e+00  \n",
       "\n",
       "[2801 rows x 4 columns]>"
      ]
     },
     "execution_count": 63,
     "metadata": {},
     "output_type": "execute_result"
    }
   ],
   "source": [
    "combine_prediction.head"
   ]
  },
  {
   "cell_type": "code",
   "execution_count": 64,
   "metadata": {},
   "outputs": [
    {
     "data": {
      "text/plain": [
       "Index(['student', 'kc', 'opportunity', 'prediction'], dtype='object')"
      ]
     },
     "execution_count": 64,
     "metadata": {},
     "output_type": "execute_result"
    }
   ],
   "source": [
    "combine_prediction.columns"
   ]
  },
  {
   "cell_type": "code",
   "execution_count": 65,
   "metadata": {},
   "outputs": [
    {
     "data": {
      "text/plain": [
       "(2801, 4)"
      ]
     },
     "execution_count": 65,
     "metadata": {},
     "output_type": "execute_result"
    }
   ],
   "source": [
    "combine_prediction.shape"
   ]
  },
  {
   "cell_type": "markdown",
   "metadata": {},
   "source": [
    "#### Seperate into subsets"
   ]
  },
  {
   "cell_type": "code",
   "execution_count": 67,
   "metadata": {},
   "outputs": [],
   "source": [
    "bkt_default = combine_prediction[combine_prediction['student'].str.contains('Default BKT Controller')]"
   ]
  },
  {
   "cell_type": "code",
   "execution_count": 68,
   "metadata": {},
   "outputs": [],
   "source": [
    "bkt_human = combine_prediction[combine_prediction['student'].str.contains('BKT Controller_human')]"
   ]
  },
  {
   "cell_type": "code",
   "execution_count": 69,
   "metadata": {},
   "outputs": [],
   "source": [
    "bkt_random = combine_prediction[combine_prediction['student'].str.contains('BKT Controller_random')]"
   ]
  },
  {
   "cell_type": "code",
   "execution_count": 70,
   "metadata": {},
   "outputs": [],
   "source": [
    "random = combine_prediction[combine_prediction['student'].str.contains('Random Controller')]"
   ]
  },
  {
   "cell_type": "code",
   "execution_count": 71,
   "metadata": {},
   "outputs": [],
   "source": [
    "streak = combine_prediction[combine_prediction['student'].str.contains('Streak Agent')]"
   ]
  },
  {
   "cell_type": "markdown",
   "metadata": {},
   "source": [
    "#### Pivot Table"
   ]
  },
  {
   "cell_type": "code",
   "execution_count": 72,
   "metadata": {},
   "outputs": [],
   "source": [
    "def createPivotTable(df):\n",
    "    pivot_table = df.pivot_table('prediction', index = ['student'], columns = ['kc'])\n",
    "    # print pivot_table.shape\n",
    "    # pivot_table.to_csv(\"E:/Project/AL/Data/WhereWhenHowNoFoa_BKTrandom_firstAttempt/next_step_prediction_pivot_table.txt\", sep = ',')\n",
    "    return pivot_table"
   ]
  },
  {
   "cell_type": "code",
   "execution_count": 73,
   "metadata": {},
   "outputs": [],
   "source": [
    "bkt_default_PT = createPivotTable(bkt_default)"
   ]
  },
  {
   "cell_type": "code",
   "execution_count": 74,
   "metadata": {},
   "outputs": [],
   "source": [
    "bkt_human_PT = createPivotTable(bkt_human)"
   ]
  },
  {
   "cell_type": "code",
   "execution_count": 75,
   "metadata": {},
   "outputs": [],
   "source": [
    "bkt_random_PT = createPivotTable(bkt_random)"
   ]
  },
  {
   "cell_type": "code",
   "execution_count": 76,
   "metadata": {},
   "outputs": [],
   "source": [
    "random_PT = createPivotTable(random)"
   ]
  },
  {
   "cell_type": "code",
   "execution_count": 77,
   "metadata": {},
   "outputs": [],
   "source": [
    "streak_PT = createPivotTable(streak)"
   ]
  },
  {
   "cell_type": "markdown",
   "metadata": {},
   "source": [
    "#### Save Pivot Tables "
   ]
  },
  {
   "cell_type": "code",
   "execution_count": 83,
   "metadata": {},
   "outputs": [],
   "source": [
    "bkt_default_PT.to_csv(\"E:/Project/AL/Data/WhereWhenHowNoFoa_firstAttempt/Predict/bkt_default_next_step_prediction_pivot_table.txt\", sep = ',')"
   ]
  },
  {
   "cell_type": "code",
   "execution_count": 85,
   "metadata": {},
   "outputs": [],
   "source": [
    "bkt_human_PT.to_csv(\"E:/Project/AL/Data/WhereWhenHowNoFoa_firstAttempt/Predict/bkt_human_next_step_prediction_pivot_table.txt\", sep = ',')"
   ]
  },
  {
   "cell_type": "code",
   "execution_count": 87,
   "metadata": {},
   "outputs": [],
   "source": [
    "bkt_random_PT.to_csv(\"E:/Project/AL/Data/WhereWhenHowNoFoa_firstAttempt/Predict/bkt_random_next_step_prediction_pivot_table.txt\", sep = ',')"
   ]
  },
  {
   "cell_type": "code",
   "execution_count": 88,
   "metadata": {},
   "outputs": [],
   "source": [
    "random_PT.to_csv(\"E:/Project/AL/Data/WhereWhenHowNoFoa_firstAttempt/Predict/random_next_step_prediction_pivot_table.txt\", sep = ',')"
   ]
  },
  {
   "cell_type": "code",
   "execution_count": 89,
   "metadata": {},
   "outputs": [],
   "source": [
    "streak_PT.to_csv(\"E:/Project/AL/Data/WhereWhenHowNoFoa_firstAttempt/Predict/streak_next_step_prediction_pivot_table.txt\", sep = ',')"
   ]
  },
  {
   "cell_type": "markdown",
   "metadata": {},
   "source": [
    "#### How many questions each type were given to each student in each model"
   ]
  },
  {
   "cell_type": "code",
   "execution_count": null,
   "metadata": {},
   "outputs": [],
   "source": [
    "Need to load roll-up file"
   ]
  },
  {
   "cell_type": "code",
   "execution_count": 7,
   "metadata": {},
   "outputs": [],
   "source": [
    "# Dictionary for mapping\n",
    "dic = {'Default BKT': bkt_default, 'BKT (human-parameters)': bkt_human, 'BKT (random_parameters)': bkt_random, 'Random': random, 'Streak': streak}"
   ]
  },
  {
   "cell_type": "code",
   "execution_count": 17,
   "metadata": {},
   "outputs": [],
   "source": [
    "def ptypeNumEachStudentConcat(df):\n",
    "    mean_arr, names = [], []\n",
    "    for key in dic:\n",
    "        dic[key]['Problem Type'] = dic[key]['Problem Name'].str[0:2] # creat 'Problem Name' column\n",
    "        problem = dic[key][['Anon Student Id', 'Problem Name', 'Problem Type']].drop_duplicates()\n",
    "        problem_cnt = problem.groupby(['Problem Type', 'Anon Student Id'], as_index = False).count()\n",
    "        cnt_mean = problem_cnt.groupby('Problem Type').mean()\n",
    "        mean_arr.append(cnt_mean)\n",
    "        names.append(key)\n",
    "    res = pd.concat(mean_arr, axis = 1)\n",
    "    res.columns = names\n",
    "    return res"
   ]
  },
  {
   "cell_type": "code",
   "execution_count": 18,
   "metadata": {},
   "outputs": [
    {
     "data": {
      "text/html": [
       "<div>\n",
       "<style scoped>\n",
       "    .dataframe tbody tr th:only-of-type {\n",
       "        vertical-align: middle;\n",
       "    }\n",
       "\n",
       "    .dataframe tbody tr th {\n",
       "        vertical-align: top;\n",
       "    }\n",
       "\n",
       "    .dataframe thead th {\n",
       "        text-align: right;\n",
       "    }\n",
       "</style>\n",
       "<table border=\"1\" class=\"dataframe\">\n",
       "  <thead>\n",
       "    <tr style=\"text-align: right;\">\n",
       "      <th></th>\n",
       "      <th>Default BKT</th>\n",
       "      <th>BKT (human-parameters)</th>\n",
       "      <th>BKT (random_parameters)</th>\n",
       "      <th>Random</th>\n",
       "      <th>Streak</th>\n",
       "    </tr>\n",
       "    <tr>\n",
       "      <th>Problem Type</th>\n",
       "      <th></th>\n",
       "      <th></th>\n",
       "      <th></th>\n",
       "      <th></th>\n",
       "      <th></th>\n",
       "    </tr>\n",
       "  </thead>\n",
       "  <tbody>\n",
       "    <tr>\n",
       "      <th>AD</th>\n",
       "      <td>9.000000</td>\n",
       "      <td>12.800000</td>\n",
       "      <td>8.066667</td>\n",
       "      <td>80</td>\n",
       "      <td>20.133333</td>\n",
       "    </tr>\n",
       "    <tr>\n",
       "      <th>AS</th>\n",
       "      <td>5.733333</td>\n",
       "      <td>6.233333</td>\n",
       "      <td>5.000000</td>\n",
       "      <td>80</td>\n",
       "      <td>14.200000</td>\n",
       "    </tr>\n",
       "    <tr>\n",
       "      <th>M</th>\n",
       "      <td>6.066667</td>\n",
       "      <td>9.766667</td>\n",
       "      <td>7.300000</td>\n",
       "      <td>80</td>\n",
       "      <td>12.900000</td>\n",
       "    </tr>\n",
       "  </tbody>\n",
       "</table>\n",
       "</div>"
      ],
      "text/plain": [
       "              Default BKT  BKT (human-parameters)  BKT (random_parameters)  \\\n",
       "Problem Type                                                                 \n",
       "AD               9.000000               12.800000                 8.066667   \n",
       "AS               5.733333                6.233333                 5.000000   \n",
       "M                6.066667                9.766667                 7.300000   \n",
       "\n",
       "              Random     Streak  \n",
       "Problem Type                     \n",
       "AD                80  20.133333  \n",
       "AS                80  14.200000  \n",
       "M                 80  12.900000  "
      ]
     },
     "execution_count": 18,
     "metadata": {},
     "output_type": "execute_result"
    }
   ],
   "source": [
    "ptypeNumEachStudentConcat(dic)"
   ]
  }
 ],
 "metadata": {
  "kernelspec": {
   "display_name": "Python 3",
   "language": "python",
   "name": "python3"
  },
  "language_info": {
   "codemirror_mode": {
    "name": "ipython",
    "version": 3
   },
   "file_extension": ".py",
   "mimetype": "text/x-python",
   "name": "python",
   "nbconvert_exporter": "python",
   "pygments_lexer": "ipython3",
   "version": "3.8.1"
  }
 },
 "nbformat": 4,
 "nbformat_minor": 4
}
